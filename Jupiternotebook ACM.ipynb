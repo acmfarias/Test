{
  "metadata": {
    "kernelspec": {
      "name": "python",
      "display_name": "Python (Pyodide)",
      "language": "python"
    },
    "language_info": {
      "codemirror_mode": {
        "name": "python",
        "version": 3
      },
      "file_extension": ".py",
      "mimetype": "text/x-python",
      "name": "python",
      "nbconvert_exporter": "python",
      "pygments_lexer": "ipython3",
      "version": "3.8"
    }
  },
  "nbformat_minor": 4,
  "nbformat": 4,
  "cells": [
    {
      "cell_type": "markdown",
      "source": "# Jupiter Notebook ACM\n",
      "metadata": {}
    },
    {
      "cell_type": "markdown",
      "source": "# introduction \nEste notebook apresenta uma visão geral de tópicos importantes em ciência de dados.\n",
      "metadata": {}
    },
    {
      "cell_type": "markdown",
      "source": "# List data science languages\n- SQL\n- Pyton\n- R",
      "metadata": {}
    },
    {
      "cell_type": "markdown",
      "source": "# List data science libraries\n- NumPy\n- Pandas\n- Matplotlib\n- Scikit-learn",
      "metadata": {}
    },
    {
      "cell_type": "markdown",
      "source": "# Data Science tools.\n| tools       | Description                      |\n|------------------|--------------------------------|\n| Jupyter Notebook | Ambiente interativo para código |\n| RStudio          | IDE para R                     |\n| Apache Spark     | Processamento de grandes dados  |\n",
      "metadata": {}
    },
    {
      "cell_type": "markdown",
      "source": "# arithmetic expression examples\n- Addition: 2 + 3\n- Subtraction: 5 - 2\n- Multiplication: 4 * 3\n- Division: 8 / 2\n",
      "metadata": {}
    },
    {
      "cell_type": "code",
      "source": "# Multiplication e Addition\nresultado = (5 * 3) + 5\nresultado\n\n",
      "metadata": {
        "trusted": true
      },
      "outputs": [
        {
          "execution_count": 6,
          "output_type": "execute_result",
          "data": {
            "text/plain": "20"
          },
          "metadata": {}
        }
      ],
      "execution_count": 6
    },
    {
      "cell_type": "code",
      "source": "# convert minutes to hours\nminutos = 180\nhoras = minutos / 60\nhoras\n",
      "metadata": {
        "trusted": true
      },
      "outputs": [
        {
          "execution_count": 5,
          "output_type": "execute_result",
          "data": {
            "text/plain": "3.0"
          },
          "metadata": {}
        }
      ],
      "execution_count": 5
    },
    {
      "cell_type": "markdown",
      "source": "# Objectives\n- Aprender a utilizar ferramentas de ciência de dados\n- Praticar operações aritméticas em Python\n",
      "metadata": {}
    },
    {
      "cell_type": "code",
      "source": "**Autor:** Ana Carolina Farias\n",
      "metadata": {
        "trusted": true
      },
      "outputs": [],
      "execution_count": null
    },
    {
      "cell_type": "code",
      "source": "",
      "metadata": {
        "trusted": true
      },
      "outputs": [],
      "execution_count": null
    }
  ]
}